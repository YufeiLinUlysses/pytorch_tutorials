{
 "cells": [
  {
   "cell_type": "markdown",
   "metadata": {},
   "source": [
    "### Explanation in RNN Context\n",
    "\n",
    "In an RNN, the hidden state at each time step is computed using both the previous hidden state and the current input. The equations can be represented as follows:\n",
    "\n",
    "$ h_t = \\tanh(W_x x_t + W_h h_{t-1} + b) $\n",
    "\n",
    "In the provided code snippet:\n",
    "\n",
    "- `i2h` represents $ W_x x_t $, the transformation of the input by the input weight matrix.\n",
    "- `h2h` represents $ W_h h_{t-1} $, the transformation of the previous hidden state by the hidden state weight matrix.\n",
    "- The sum `i2h + h2h` combines these transformations to form the input to the activation function.\n",
    "- `next_h.tanh()` applies the $\\tanh$ activation function to get the next hidden state.\n",
    "\n",
    "This process is a core part of how RNNs maintain and update their hidden states over sequences of data, allowing them to capture temporal dependencies and patterns."
   ]
  },
  {
   "cell_type": "code",
   "execution_count": 12,
   "metadata": {},
   "outputs": [
    {
     "name": "stdout",
     "output_type": "stream",
     "text": [
      "tensor(1.7539, grad_fn=<SumBackward0>)\n"
     ]
    }
   ],
   "source": [
    "import torch\n",
    "\n",
    "x = torch.randn(1,10, requires_grad=True)\n",
    "prev_h = torch.randn(1,20, requires_grad=True)\n",
    "W_h = torch.randn(20,20, requires_grad=True)\n",
    "W_x = torch.randn(20,10, requires_grad=True)\n",
    "\n",
    "# torch.mm matrix multiplication\n",
    "# .t is transfer\n",
    "i2h = torch.mm(W_x, x.t())\n",
    "h2h = torch.mm(W_h, prev_h.t())\n",
    "\n",
    "next_h = i2h + h2h\n",
    "next_h = next_h.tanh()\n",
    "loss = next_h.sum()\n",
    "loss.backward()\n",
    "\n",
    "# print(f\"Gradient of x: {x.grad}\")\n",
    "# print(f\"Gradient of prev_h: {prev_h.grad}\")\n",
    "# print(f\"Gradient of W_h: {W_h.grad}\")\n",
    "# print(f\"Gradient of W_x: {W_x.grad}\")\n",
    "print(loss)"
   ]
  }
 ],
 "metadata": {
  "kernelspec": {
   "display_name": "base",
   "language": "python",
   "name": "python3"
  },
  "language_info": {
   "codemirror_mode": {
    "name": "ipython",
    "version": 3
   },
   "file_extension": ".py",
   "mimetype": "text/x-python",
   "name": "python",
   "nbconvert_exporter": "python",
   "pygments_lexer": "ipython3",
   "version": "3.11.7"
  }
 },
 "nbformat": 4,
 "nbformat_minor": 2
}
