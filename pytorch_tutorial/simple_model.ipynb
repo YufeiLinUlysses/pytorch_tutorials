{
 "cells": [
  {
   "cell_type": "code",
   "execution_count": 4,
   "metadata": {},
   "outputs": [],
   "source": [
    "import torch\n",
    "import torch.nn as nn\n",
    "import torch.nn.functional as F\n",
    "\n",
    "class LeNet(nn.Module):\n",
    "\n",
    "    def __init__(self):\n",
    "        super(LeNet, self).__init__()\n",
    "        self.conv1 = nn.Conv2d(1,6,3)\n",
    "        self.conv2 = nn.Conv2d(6,16,3)\n",
    "\n",
    "        self.fc1 = nn.Linear(16 * 6 * 6, 120)\n",
    "        self.fc2 = nn.Linear(120, 84)\n",
    "        self.fc3 = nn.Linear(84,10)\n",
    "\n",
    "    def num_flat_features(self,x):\n",
    "        size = x.size()[1:]\n",
    "        num_features = 1\n",
    "        for s in size:\n",
    "            num_features *= s\n",
    "        return num_features\n",
    "    \n",
    "    def forward(self, x):\n",
    "        x = F.max_pool2d(F.relu(self.conv1(x)), (2,2))\n",
    "        x = F.max_pool2d(F.relu(self.conv2(x)),2)\n",
    "        x = x.view(-1,self.num_flat_features(x))\n",
    "        x = F.relu(self.fc1(x))\n",
    "        x = F.relu(self.fc2(x))\n",
    "        x = self.fc3(x)\n",
    "        return x\n",
    "    \n",
    "    "
   ]
  },
  {
   "cell_type": "code",
   "execution_count": 6,
   "metadata": {},
   "outputs": [
    {
     "name": "stdout",
     "output_type": "stream",
     "text": [
      "tensor([[-0.0944,  0.0356, -0.0139,  0.0042,  0.0238, -0.0795,  0.0848,  0.1034,\n",
      "          0.0847, -0.0732],\n",
      "        [-0.1036,  0.0292, -0.0249,  0.0030,  0.0303, -0.0777,  0.0833,  0.1004,\n",
      "          0.0838, -0.0733],\n",
      "        [-0.1035,  0.0338, -0.0245,  0.0064,  0.0271, -0.0772,  0.0846,  0.1042,\n",
      "          0.0829, -0.0718],\n",
      "        [-0.1015,  0.0284, -0.0251,  0.0100,  0.0285, -0.0825,  0.0888,  0.1000,\n",
      "          0.0909, -0.0692],\n",
      "        [-0.1057,  0.0319, -0.0298,  0.0082,  0.0294, -0.0852,  0.0846,  0.0959,\n",
      "          0.0776, -0.0718],\n",
      "        [-0.1039,  0.0313, -0.0258,  0.0089,  0.0290, -0.0797,  0.0854,  0.0931,\n",
      "          0.0832, -0.0686],\n",
      "        [-0.1021,  0.0345, -0.0264,  0.0063,  0.0269, -0.0835,  0.0894,  0.0928,\n",
      "          0.0767, -0.0730],\n",
      "        [-0.1036,  0.0297, -0.0230,  0.0056,  0.0287, -0.0776,  0.0762,  0.0923,\n",
      "          0.0861, -0.0726],\n",
      "        [-0.0963,  0.0355, -0.0213, -0.0081,  0.0314, -0.0792,  0.0920,  0.1044,\n",
      "          0.0928, -0.0640],\n",
      "        [-0.1028,  0.0282, -0.0255,  0.0033,  0.0244, -0.0804,  0.0878,  0.0961,\n",
      "          0.0854, -0.0700],\n",
      "        [-0.1048,  0.0280, -0.0315,  0.0052,  0.0262, -0.0822,  0.0832,  0.0939,\n",
      "          0.0892, -0.0747],\n",
      "        [-0.1022,  0.0295, -0.0257,  0.0123,  0.0197, -0.0780,  0.0882,  0.0960,\n",
      "          0.0818, -0.0773],\n",
      "        [-0.0970,  0.0316, -0.0258,  0.0106,  0.0259, -0.0831,  0.0949,  0.0944,\n",
      "          0.0852, -0.0741],\n",
      "        [-0.1033,  0.0331, -0.0244,  0.0059,  0.0286, -0.0744,  0.0854,  0.0993,\n",
      "          0.0817, -0.0663],\n",
      "        [-0.1016,  0.0315, -0.0244,  0.0101,  0.0194, -0.0769,  0.0872,  0.1013,\n",
      "          0.0873, -0.0676],\n",
      "        [-0.0996,  0.0299, -0.0207,  0.0051,  0.0224, -0.0750,  0.0911,  0.1051,\n",
      "          0.0866, -0.0711]], grad_fn=<AddmmBackward0>)\n"
     ]
    }
   ],
   "source": [
    "net = LeNet()\n",
    "\n",
    "img = torch.rand(16,1,32,32)\n",
    "\n",
    "out = net(img)\n",
    "\n",
    "print(out)"
   ]
  },
  {
   "cell_type": "code",
   "execution_count": null,
   "metadata": {},
   "outputs": [],
   "source": [
    "import torch.optim as optim\n",
    "criterion = nn.CrossEntropyLoss()\n",
    "optimizer = optim.SGD(net.parameters(), lr=0.001,momentum=0.9) # stochastic gradient descent, control learning rate"
   ]
  }
 ],
 "metadata": {
  "kernelspec": {
   "display_name": "base",
   "language": "python",
   "name": "python3"
  },
  "language_info": {
   "codemirror_mode": {
    "name": "ipython",
    "version": 3
   },
   "file_extension": ".py",
   "mimetype": "text/x-python",
   "name": "python",
   "nbconvert_exporter": "python",
   "pygments_lexer": "ipython3",
   "version": "3.11.7"
  }
 },
 "nbformat": 4,
 "nbformat_minor": 2
}
