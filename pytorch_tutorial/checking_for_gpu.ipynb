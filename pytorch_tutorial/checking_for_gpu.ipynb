{
 "cells": [
  {
   "cell_type": "markdown",
   "metadata": {},
   "source": [
    "Install and test Pytorch for AMD GPU using DirectML\n"
   ]
  },
  {
   "cell_type": "code",
   "execution_count": 7,
   "metadata": {},
   "outputs": [
    {
     "name": "stdout",
     "output_type": "stream",
     "text": [
      "Requirement already satisfied: torch-directml in c:\\users\\huawe\\anaconda3\\lib\\site-packages (0.2.1.dev240521)\n",
      "Requirement already satisfied: torch==2.2.1 in c:\\users\\huawe\\anaconda3\\lib\\site-packages (from torch-directml) (2.2.1)\n",
      "Requirement already satisfied: torchvision==0.17.1 in c:\\users\\huawe\\anaconda3\\lib\\site-packages (from torch-directml) (0.17.1)\n",
      "Requirement already satisfied: filelock in c:\\users\\huawe\\anaconda3\\lib\\site-packages (from torch==2.2.1->torch-directml) (3.13.1)\n",
      "Requirement already satisfied: typing-extensions>=4.8.0 in c:\\users\\huawe\\anaconda3\\lib\\site-packages (from torch==2.2.1->torch-directml) (4.9.0)\n",
      "Requirement already satisfied: sympy in c:\\users\\huawe\\anaconda3\\lib\\site-packages (from torch==2.2.1->torch-directml) (1.12)\n",
      "Requirement already satisfied: networkx in c:\\users\\huawe\\anaconda3\\lib\\site-packages (from torch==2.2.1->torch-directml) (3.1)\n",
      "Requirement already satisfied: jinja2 in c:\\users\\huawe\\anaconda3\\lib\\site-packages (from torch==2.2.1->torch-directml) (3.1.3)\n",
      "Requirement already satisfied: fsspec in c:\\users\\huawe\\anaconda3\\lib\\site-packages (from torch==2.2.1->torch-directml) (2023.10.0)\n",
      "Requirement already satisfied: numpy in c:\\users\\huawe\\anaconda3\\lib\\site-packages (from torchvision==0.17.1->torch-directml) (1.26.4)\n",
      "Requirement already satisfied: pillow!=8.3.*,>=5.3.0 in c:\\users\\huawe\\anaconda3\\lib\\site-packages (from torchvision==0.17.1->torch-directml) (10.2.0)\n",
      "Requirement already satisfied: MarkupSafe>=2.0 in c:\\users\\huawe\\anaconda3\\lib\\site-packages (from jinja2->torch==2.2.1->torch-directml) (2.1.3)\n",
      "Requirement already satisfied: mpmath>=0.19 in c:\\users\\huawe\\anaconda3\\lib\\site-packages (from sympy->torch==2.2.1->torch-directml) (1.3.0)\n",
      "Requirement already satisfied: protobuf in c:\\users\\huawe\\anaconda3\\lib\\site-packages (3.20.3)\n"
     ]
    }
   ],
   "source": [
    "# !pip install torch-directml\n",
    "# !pip install protobuf"
   ]
  },
  {
   "cell_type": "code",
   "execution_count": 1,
   "metadata": {},
   "outputs": [
    {
     "data": {
      "text/plain": [
       "device(type='privateuseone', index=0)"
      ]
     },
     "execution_count": 1,
     "metadata": {},
     "output_type": "execute_result"
    }
   ],
   "source": [
    "import torch\n",
    "import torch_directml\n",
    "torch_directml.device()"
   ]
  }
 ],
 "metadata": {
  "kernelspec": {
   "display_name": "base",
   "language": "python",
   "name": "python3"
  },
  "language_info": {
   "codemirror_mode": {
    "name": "ipython",
    "version": 3
   },
   "file_extension": ".py",
   "mimetype": "text/x-python",
   "name": "python",
   "nbconvert_exporter": "python",
   "pygments_lexer": "ipython3",
   "version": "3.11.7"
  }
 },
 "nbformat": 4,
 "nbformat_minor": 2
}
